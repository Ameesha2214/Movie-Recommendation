{
  "nbformat": 4,
  "nbformat_minor": 0,
  "metadata": {
    "colab": {
      "provenance": [],
      "authorship_tag": "ABX9TyMp2lsFeqnkDQhmNwJoMI0D",
      "include_colab_link": true
    },
    "kernelspec": {
      "name": "python3",
      "display_name": "Python 3"
    },
    "language_info": {
      "name": "python"
    }
  },
  "cells": [
    {
      "cell_type": "markdown",
      "metadata": {
        "id": "view-in-github",
        "colab_type": "text"
      },
      "source": [
        "<a href=\"https://colab.research.google.com/github/Ameesha2214/Movie-Recommendation/blob/main/Movie_Recommendation_System.ipynb\" target=\"_parent\"><img src=\"https://colab.research.google.com/assets/colab-badge.svg\" alt=\"Open In Colab\"/></a>"
      ]
    },
    {
      "cell_type": "code",
      "execution_count": null,
      "metadata": {
        "id": "JeHpgA2BRaiy"
      },
      "outputs": [],
      "source": []
    },
    {
      "cell_type": "markdown",
      "source": [
        "**Movie Recommendation System**\n",
        "\n",
        "**Movie Match: Revolutionizing Movie Recommendations with the Close Match Algorithm**\n",
        "\n",
        "Movie Match is an innovative recommendation system crafted for movie enthusiasts. Powered by the Close Match algorithm, it analyzes user inputs with precision, accommodating subtle variations to suggest films that perfectly align with individual preferences.\n",
        "\n",
        "Key Features\n",
        "1. **Close Match Precision**:\n",
        "The Close Match algorithm delivers unmatched accuracy by handling typos, misspellings, or minor deviations in movie titles. Enjoy precise and relevant movie suggestions every time, elevating your cinematic experience.\n",
        "\n",
        "2. **Personalized Recommendations:**\n",
        "Whether you’re a fan of timeless classics, edge-of-your-seat thrillers, or heartwarming rom-coms, Movie Match adapts to your movie preferences. Discover a world of handpicked recommendations tailored just for you.\n",
        "\n",
        "3. **Intuitive Movie Discovery:**\n",
        "Experience effortless movie exploration. Movie Match streamlines the search process, offering a curated selection of films that resonate with your cinematic tastes. Dive into a personalized journey of film discovery like never before.\n",
        "\n",
        "**OBJECTIVE**\n",
        "\n",
        "The primary goal of the Movie Recommendation System is to provide users with accurate, personalized movie suggestions based on their preferences and inputs. Leveraging the Close Match algorithm, the system excels in delivering recommendations that accommodate minor deviations in movie titles. By personalizing suggestions and offering a seamless user experience, the system enhances user engagement and satisfaction, making movie discovery both enjoyable and effortless.\n",
        "\n",
        "**DATA SOURCE**\n",
        "\n",
        "The dataset for this project was sourced from the YBI Foundation Kaggle repository. It contains comprehensive information about movies, user ratings, and other relevant attributes essential for building the recommendation system."
      ],
      "metadata": {
        "id": "j8WiB_dpSeP6"
      }
    },
    {
      "cell_type": "markdown",
      "source": [
        "**IMPORT LIBRARIES**"
      ],
      "metadata": {
        "id": "j7IUbW_XZO1V"
      }
    },
    {
      "cell_type": "code",
      "source": [
        "import pandas as pd\n",
        "import numpy as np"
      ],
      "metadata": {
        "id": "5AkNDpHyZVAW"
      },
      "execution_count": 1,
      "outputs": []
    },
    {
      "cell_type": "markdown",
      "source": [
        "**IMPORT DATASET**"
      ],
      "metadata": {
        "id": "c7Xyd1grZZgF"
      }
    },
    {
      "cell_type": "code",
      "source": [
        "df = pd.read_csv('/content/Movies Recommendation (1).csv')\n",
        "print(df.head())\n",
        "print(df.info())"
      ],
      "metadata": {
        "colab": {
          "base_uri": "https://localhost:8080/"
        },
        "id": "LduLiXz-aEC0",
        "outputId": "3047bf01-9180-4688-8d69-3d99be99385b"
      },
      "execution_count": 3,
      "outputs": [
        {
          "output_type": "stream",
          "name": "stdout",
          "text": [
            "   Movie_ID      Movie_Title                       Movie_Genre Movie_Language  \\\n",
            "0         1       Four Rooms                      Crime Comedy             en   \n",
            "1         2        Star Wars  Adventure Action Science Fiction             en   \n",
            "2         3     Finding Nemo                  Animation Family             en   \n",
            "3         4     Forrest Gump              Comedy Drama Romance             en   \n",
            "4         5  American Beauty                             Drama             en   \n",
            "\n",
            "   Movie_Budget  Movie_Popularity Movie_Release_Date  Movie_Revenue  \\\n",
            "0       4000000         22.876230         09-12-1995        4300000   \n",
            "1      11000000        126.393695         25-05-1977      775398007   \n",
            "2      94000000         85.688789         30-05-2003      940335536   \n",
            "3      55000000        138.133331         06-07-1994      677945399   \n",
            "4      15000000         80.878605         15-09-1999      356296601   \n",
            "\n",
            "   Movie_Runtime  Movie_Vote  ...  \\\n",
            "0           98.0         6.5  ...   \n",
            "1          121.0         8.1  ...   \n",
            "2          100.0         7.6  ...   \n",
            "3          142.0         8.2  ...   \n",
            "4          122.0         7.9  ...   \n",
            "\n",
            "                                      Movie_Homepage  \\\n",
            "0                                                NaN   \n",
            "1  http://www.starwars.com/films/star-wars-episod...   \n",
            "2              http://movies.disney.com/finding-nemo   \n",
            "3                                                NaN   \n",
            "4                      http://www.dreamworks.com/ab/   \n",
            "\n",
            "                                      Movie_Keywords  \\\n",
            "0          hotel new year's eve witch bet hotel room   \n",
            "1        android galaxy hermit death star lightsaber   \n",
            "2  father son relationship harbor underwater fish...   \n",
            "3  vietnam veteran hippie mentally disabled runni...   \n",
            "4  male nudity female nudity adultery midlife cri...   \n",
            "\n",
            "                                      Movie_Overview  \\\n",
            "0  It's Ted the Bellhop's first night on the job....   \n",
            "1  Princess Leia is captured and held hostage by ...   \n",
            "2  Nemo, an adventurous young clownfish, is unexp...   \n",
            "3  A man with a low IQ has accomplished great thi...   \n",
            "4  Lester Burnham, a depressed suburban father in...   \n",
            "\n",
            "                              Movie_Production_House  \\\n",
            "0  [{\"name\": \"Miramax Films\", \"id\": 14}, {\"name\":...   \n",
            "1  [{\"name\": \"Lucasfilm\", \"id\": 1}, {\"name\": \"Twe...   \n",
            "2     [{\"name\": \"Pixar Animation Studios\", \"id\": 3}]   \n",
            "3          [{\"name\": \"Paramount Pictures\", \"id\": 4}]   \n",
            "4  [{\"name\": \"DreamWorks SKG\", \"id\": 27}, {\"name\"...   \n",
            "\n",
            "                            Movie_Production_Country  \\\n",
            "0  [{\"iso_3166_1\": \"US\", \"name\": \"United States o...   \n",
            "1  [{\"iso_3166_1\": \"US\", \"name\": \"United States o...   \n",
            "2  [{\"iso_3166_1\": \"US\", \"name\": \"United States o...   \n",
            "3  [{\"iso_3166_1\": \"US\", \"name\": \"United States o...   \n",
            "4  [{\"iso_3166_1\": \"US\", \"name\": \"United States o...   \n",
            "\n",
            "                      Movie_Spoken_Language  \\\n",
            "0  [{\"iso_639_1\": \"en\", \"name\": \"English\"}]   \n",
            "1  [{\"iso_639_1\": \"en\", \"name\": \"English\"}]   \n",
            "2  [{\"iso_639_1\": \"en\", \"name\": \"English\"}]   \n",
            "3  [{\"iso_639_1\": \"en\", \"name\": \"English\"}]   \n",
            "4  [{\"iso_639_1\": \"en\", \"name\": \"English\"}]   \n",
            "\n",
            "                                       Movie_Tagline  \\\n",
            "0  Twelve outrageous guests. Four scandalous requ...   \n",
            "1       A long time ago in a galaxy far, far away...   \n",
            "2  There are 3.7 trillion fish in the ocean, they...   \n",
            "3  The world will never be the same, once you've ...   \n",
            "4                                       Look closer.   \n",
            "\n",
            "                                          Movie_Cast  \\\n",
            "0  Tim Roth Antonio Banderas Jennifer Beals Madon...   \n",
            "1  Mark Hamill Harrison Ford Carrie Fisher Peter ...   \n",
            "2  Albert Brooks Ellen DeGeneres Alexander Gould ...   \n",
            "3  Tom Hanks Robin Wright Gary Sinise Mykelti Wil...   \n",
            "4  Kevin Spacey Annette Bening Thora Birch Wes Be...   \n",
            "\n",
            "                                          Movie_Crew   Movie_Director  \n",
            "0  [{'name': 'Allison Anders', 'gender': 1, 'depa...   Allison Anders  \n",
            "1  [{'name': 'George Lucas', 'gender': 2, 'depart...     George Lucas  \n",
            "2  [{'name': 'Andrew Stanton', 'gender': 2, 'depa...   Andrew Stanton  \n",
            "3  [{'name': 'Alan Silvestri', 'gender': 2, 'depa...  Robert Zemeckis  \n",
            "4  [{'name': 'Thomas Newman', 'gender': 2, 'depar...       Sam Mendes  \n",
            "\n",
            "[5 rows x 21 columns]\n",
            "<class 'pandas.core.frame.DataFrame'>\n",
            "RangeIndex: 4760 entries, 0 to 4759\n",
            "Data columns (total 21 columns):\n",
            " #   Column                    Non-Null Count  Dtype  \n",
            "---  ------                    --------------  -----  \n",
            " 0   Movie_ID                  4760 non-null   int64  \n",
            " 1   Movie_Title               4760 non-null   object \n",
            " 2   Movie_Genre               4760 non-null   object \n",
            " 3   Movie_Language            4760 non-null   object \n",
            " 4   Movie_Budget              4760 non-null   int64  \n",
            " 5   Movie_Popularity          4760 non-null   float64\n",
            " 6   Movie_Release_Date        4760 non-null   object \n",
            " 7   Movie_Revenue             4760 non-null   int64  \n",
            " 8   Movie_Runtime             4758 non-null   float64\n",
            " 9   Movie_Vote                4760 non-null   float64\n",
            " 10  Movie_Vote_Count          4760 non-null   int64  \n",
            " 11  Movie_Homepage            1699 non-null   object \n",
            " 12  Movie_Keywords            4373 non-null   object \n",
            " 13  Movie_Overview            4757 non-null   object \n",
            " 14  Movie_Production_House    4760 non-null   object \n",
            " 15  Movie_Production_Country  4760 non-null   object \n",
            " 16  Movie_Spoken_Language     4760 non-null   object \n",
            " 17  Movie_Tagline             3942 non-null   object \n",
            " 18  Movie_Cast                4733 non-null   object \n",
            " 19  Movie_Crew                4760 non-null   object \n",
            " 20  Movie_Director            4738 non-null   object \n",
            "dtypes: float64(3), int64(4), object(14)\n",
            "memory usage: 781.1+ KB\n",
            "None\n"
          ]
        }
      ]
    },
    {
      "cell_type": "markdown",
      "source": [
        "**CLEAN THE DATA**"
      ],
      "metadata": {
        "id": "AEXGtUgUak2p"
      }
    },
    {
      "cell_type": "code",
      "source": [
        "df.dropna(inplace=True)\n",
        "df.drop_duplicates(inplace=True)\n"
      ],
      "metadata": {
        "id": "sY4PrQ1bakfQ"
      },
      "execution_count": 4,
      "outputs": []
    },
    {
      "cell_type": "markdown",
      "source": [
        "**PREPARE DATA**"
      ],
      "metadata": {
        "id": "c4eOsKzfddYs"
      }
    },
    {
      "cell_type": "code",
      "source": [
        "import pandas as pd\n",
        "from sklearn.feature_extraction.text import TfidfVectorizer\n",
        "from sklearn.metrics.pairwise import cosine_similarity\n",
        "\n",
        "data = {\n",
        "    \"Movie_Genre\": [\"Crime Comedy\", \"Adventure Action Science Fiction\", \"Animation Family\", \"Comedy Drama Romance\", \"Drama\"],\n",
        "    \"Movie_Keywords\": [\"hotel new year's eve\", \"android galaxy hermit\", \"father son relationship\", \"vietnam veteran hippie\", \"male nudity female nudity\"],\n",
        "    \"Movie_Tagline\": [\"Twelve outrageous guests.\", \"A long time ago...\", \"There are 3.7 trillion fish...\", \"The world will never be the same.\", \"Look closer.\"],\n",
        "    \"Movie_Cast\": [\"Tim Roth Antonio Banderas\", \"Mark Hamill Harrison Ford\", \"Albert Brooks Ellen DeGeneres\", \"Tom Hanks Robin Wright\", \"Kevin Spacey Annette Bening\"],\n",
        "    \"Movie_Director\": [\"Allison Anders\", \"George Lucas\", \"Andrew Stanton\", \"Robert Zemeckis\", \"Sam Mendes\"]\n",
        "}\n",
        "df = pd.DataFrame(data)\n",
        "\n",
        "df_features = df[[\"Movie_Genre\", \"Movie_Keywords\", \"Movie_Tagline\", \"Movie_Cast\", \"Movie_Director\"]].fillna('')\n",
        "df_features[\"Combined\"] = (\n",
        "    df_features[\"Movie_Genre\"] + \" \" +\n",
        "    df_features[\"Movie_Keywords\"] + \" \" +\n",
        "    df_features[\"Movie_Tagline\"] + \" \" +\n",
        "    df_features[\"Movie_Cast\"] + \" \" +\n",
        "    df_features[\"Movie_Director\"]\n",
        ")\n"
      ],
      "metadata": {
        "id": "1ZtkBrvHdgfM"
      },
      "execution_count": 5,
      "outputs": []
    },
    {
      "cell_type": "markdown",
      "source": [
        "**CONVERT TEXT TO TF-IDF MATRIX**"
      ],
      "metadata": {
        "id": "G1Af9cmbdlGw"
      }
    },
    {
      "cell_type": "code",
      "source": [
        "tfidf = TfidfVectorizer()\n",
        "\n",
        "tfidf_matrix = tfidf.fit_transform(df_features[\"Combined\"])\n",
        "\n",
        "print(f\"TF-IDF Matrix Shape: {tfidf_matrix.shape}\")"
      ],
      "metadata": {
        "colab": {
          "base_uri": "https://localhost:8080/"
        },
        "id": "ebumTXZFdsfP",
        "outputId": "2402b00d-bc52-4f2e-813f-7c459574712f"
      },
      "execution_count": 6,
      "outputs": [
        {
          "output_type": "stream",
          "name": "stdout",
          "text": [
            "TF-IDF Matrix Shape: (5, 74)\n"
          ]
        }
      ]
    },
    {
      "cell_type": "markdown",
      "source": [
        "**COMPUTE COSINE SIMILARITY**"
      ],
      "metadata": {
        "id": "H6TmFSRgdzjr"
      }
    },
    {
      "cell_type": "code",
      "source": [
        "cosine_sim = cosine_similarity(tfidf_matrix, tfidf_matrix)\n",
        "\n",
        "print(f\"Cosine Similarity Matrix:\\n{cosine_sim}\")\n"
      ],
      "metadata": {
        "colab": {
          "base_uri": "https://localhost:8080/"
        },
        "id": "tMHNHVOnd2AU",
        "outputId": "3b3def33-c17a-4572-f5fa-82a6b23e0319"
      },
      "execution_count": 7,
      "outputs": [
        {
          "output_type": "stream",
          "name": "stdout",
          "text": [
            "Cosine Similarity Matrix:\n",
            "[[1.         0.         0.         0.03774201 0.        ]\n",
            " [0.         1.         0.         0.         0.        ]\n",
            " [0.         0.         1.         0.         0.        ]\n",
            " [0.03774201 0.         0.         1.         0.03774201]\n",
            " [0.         0.         0.         0.03774201 1.        ]]\n"
          ]
        }
      ]
    },
    {
      "cell_type": "markdown",
      "source": [
        "**RECOMMEND MOVIES**"
      ],
      "metadata": {
        "id": "A-mTGFzUeMHl"
      }
    },
    {
      "cell_type": "code",
      "source": [
        "def get_recommendations(title_index, similarity_matrix, df):\n",
        "  similarity_scores = list(enumerate(similarity_matrix[title_index]))\n",
        "\n",
        "  # The following line was incorrectly indented.\n",
        "  sorted_scores = sorted(similarity_scores, key=lambda x: x[1], reverse=True)\n",
        "\n",
        "  recommended_indices = [idx for idx, score in sorted_scores[1:6]]\n",
        "  return df.iloc[recommended_indices][[\"Movie_Genre\", \"Movie_Cast\"]]\n",
        "\n",
        "\n",
        "recommendations = get_recommendations(0, cosine_sim, df)\n",
        "print(f\"Recommended Movies:\\n{recommendations}\")"
      ],
      "metadata": {
        "colab": {
          "base_uri": "https://localhost:8080/"
        },
        "id": "jnsk7CDveQ18",
        "outputId": "4081825b-d795-404b-c62a-8aa34905e957"
      },
      "execution_count": 9,
      "outputs": [
        {
          "output_type": "stream",
          "name": "stdout",
          "text": [
            "Recommended Movies:\n",
            "                        Movie_Genre                     Movie_Cast\n",
            "3              Comedy Drama Romance         Tom Hanks Robin Wright\n",
            "1  Adventure Action Science Fiction      Mark Hamill Harrison Ford\n",
            "2                  Animation Family  Albert Brooks Ellen DeGeneres\n",
            "4                             Drama    Kevin Spacey Annette Bening\n"
          ]
        }
      ]
    },
    {
      "cell_type": "markdown",
      "source": [
        "**EXPAND FOR USER INPUT**"
      ],
      "metadata": {
        "id": "0tFcG-DNe2cx"
      }
    },
    {
      "cell_type": "code",
      "source": [
        "def find_similar_movies(user_input, tfidf_matrix, tfidf, df):\n",
        "\n",
        "    user_input_tfidf = tfidf.transform([user_input])\n",
        "\n",
        "    similarity_scores = cosine_similarity(user_input_tfidf, tfidf_matrix)\n",
        "\n",
        "    top_indices = similarity_scores[0].argsort()[-5:][::-1]\n",
        "\n",
        "    return df.iloc[top_indices]\n",
        "\n",
        "user_input = \"galaxy android adventure\"\n",
        "similar_movies = find_similar_movies(user_input, tfidf_matrix, tfidf, df)\n",
        "print(f\"Movies similar to '{user_input}':\\n{similar_movies}\")\n"
      ],
      "metadata": {
        "colab": {
          "base_uri": "https://localhost:8080/"
        },
        "id": "blMHQAOSe-oB",
        "outputId": "dec9fab2-8956-443a-a10c-ea84ada73eed"
      },
      "execution_count": 10,
      "outputs": [
        {
          "output_type": "stream",
          "name": "stdout",
          "text": [
            "Movies similar to 'galaxy android adventure':\n",
            "                        Movie_Genre             Movie_Keywords  \\\n",
            "1  Adventure Action Science Fiction      android galaxy hermit   \n",
            "4                             Drama  male nudity female nudity   \n",
            "3              Comedy Drama Romance     vietnam veteran hippie   \n",
            "2                  Animation Family    father son relationship   \n",
            "0                      Crime Comedy       hotel new year's eve   \n",
            "\n",
            "                       Movie_Tagline                     Movie_Cast  \\\n",
            "1                 A long time ago...      Mark Hamill Harrison Ford   \n",
            "4                       Look closer.    Kevin Spacey Annette Bening   \n",
            "3  The world will never be the same.         Tom Hanks Robin Wright   \n",
            "2     There are 3.7 trillion fish...  Albert Brooks Ellen DeGeneres   \n",
            "0          Twelve outrageous guests.      Tim Roth Antonio Banderas   \n",
            "\n",
            "    Movie_Director  \n",
            "1     George Lucas  \n",
            "4       Sam Mendes  \n",
            "3  Robert Zemeckis  \n",
            "2   Andrew Stanton  \n",
            "0   Allison Anders  \n"
          ]
        }
      ]
    },
    {
      "cell_type": "code",
      "source": [
        "\n",
        "\n",
        "import pandas as pd\n",
        "import difflib\n",
        "\n",
        "Favourite_Movie_Name = input('Enter your favourite movie name: ')\n",
        "\n",
        "# Assuming your original movie dataset is named 'original_df' and contains 'Movie_Title'\n",
        "original_df = pd.read_csv('/content/Movies Recommendation (1).csv')  # Replace with the actual path\n",
        "original_df.dropna(inplace=True)\n",
        "original_df.drop_duplicates(inplace=True)\n",
        "\n",
        "# Get the closest match for the movie title from the original dataset\n",
        "All_Movies_Title_List = original_df['Movie_Title'].tolist()  # Use original_df here\n",
        "Movie_Recommendation = difflib.get_close_matches(Favourite_Movie_Name, All_Movies_Title_List)\n",
        "\n",
        "if Movie_Recommendation:\n",
        "    Close_Match = Movie_Recommendation[0]\n",
        "    print(f\"Did you mean: {Close_Match}?\")\n",
        "\n",
        "    # Get index of the closest match from the original dataset\n",
        "    Index_of_Close_Match_Movie = original_df[original_df.Movie_Title == Close_Match].index[0]  # Use original_df and index\n",
        "\n",
        "    # Assuming 'similarity_scores' is calculated based on the original dataset\n",
        "    # similarity_scores = ... (calculate based on original_df)\n",
        "\n",
        "    Recommendation_Score = list(enumerate(cosine_sim[Index_of_Close_Match_Movie]))\n",
        "\n",
        "    Sorted_Similar_Movies = sorted(Recommendation_Score, key=lambda x: x[1], reverse=True)\n",
        "\n",
        "    print(\"\\nTop 10 Movies Recommended for You:\\n\")\n",
        "    i = 1\n",
        "    for movie in Sorted_Similar_Movies:\n",
        "        index = movie[0]\n",
        "        # Get the title from the original dataset using the index\n",
        "        title_from_index = original_df.loc[index, 'Movie_Title']  # Use loc to get the title\n",
        "        if i <= 10:\n",
        "            print(f\"{i}. {title_from_index}\")\n",
        "            i += 1\n",
        "else:\n",
        "    print(\"Sorry, no close matches found for the entered movie title.\")"
      ],
      "metadata": {
        "colab": {
          "base_uri": "https://localhost:8080/"
        },
        "id": "UppETYwdfZ_A",
        "outputId": "cc3b89fc-a3d5-411d-d340-8286a380b566"
      },
      "execution_count": 13,
      "outputs": [
        {
          "output_type": "stream",
          "name": "stdout",
          "text": [
            "Enter your favourite movie name: Look Closer\n",
            "Sorry, no close matches found for the entered movie title.\n"
          ]
        }
      ]
    },
    {
      "cell_type": "code",
      "source": [],
      "metadata": {
        "id": "8hZ8WmLMgpGN"
      },
      "execution_count": null,
      "outputs": []
    }
  ]
}